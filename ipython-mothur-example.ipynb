{
 "cells": [
  {
   "cell_type": "markdown",
   "metadata": {},
   "source": [
    "# Example of running mothur within an IPython notebook."
   ]
  },
  {
   "cell_type": "markdown",
   "metadata": {},
   "source": [
    "All code available at https://github.com/SchlossLab/ipython-mothurmagic"
   ]
  },
  {
   "cell_type": "markdown",
   "metadata": {},
   "source": [
    "### Prerequisites"
   ]
  },
  {
   "cell_type": "markdown",
   "metadata": {},
   "source": [
    "mothur must be installed on your system and either in your path or in the directory where IPython is running. See http://www.mothur.org/wiki/Download_mothur to download a copy of mothur."
   ]
  },
  {
   "cell_type": "markdown",
   "metadata": {},
   "source": [
    "### Installation"
   ]
  },
  {
   "cell_type": "code",
   "execution_count": 1,
   "metadata": {
    "collapsed": false
   },
   "outputs": [
    {
     "name": "stdout",
     "output_type": "stream",
     "text": [
      "Installed mothurmagic.py. To use it, type:\n",
      "  %load_ext mothurmagic\n"
     ]
    }
   ],
   "source": [
    "import warnings\n",
    "warnings.filterwarnings('ignore')\n",
    "%install_ext mothurmagic.py"
   ]
  },
  {
   "cell_type": "markdown",
   "metadata": {},
   "source": [
    "### Load the extention"
   ]
  },
  {
   "cell_type": "code",
   "execution_count": 2,
   "metadata": {
    "collapsed": false
   },
   "outputs": [],
   "source": [
    "%load_ext mothurmagic"
   ]
  },
  {
   "cell_type": "markdown",
   "metadata": {},
   "source": [
    "## Running mothur commands"
   ]
  },
  {
   "cell_type": "markdown",
   "metadata": {},
   "source": [
    "Example using data from http://www.mothur.org/w/images/3/37/AmazonData.zip\n",
    "A unique log file will be generated each time a %%mothur cell is executed."
   ]
  },
  {
   "cell_type": "code",
   "execution_count": 3,
   "metadata": {
    "collapsed": false
   },
   "outputs": [
    {
     "name": "stdout",
     "output_type": "stream",
     "text": [
      "mothur > summary.seqs(fasta=amazon.fasta)\n",
      "\n",
      "Using 1 processors.\n",
      "\n",
      "Start\tEnd\tNBases\tAmbigs\tPolymer\tNumSeqs\n",
      "Minimum:\t1\t422\t422\t0\t4\t1\n",
      "2.5%-tile:\t1\t436\t436\t0\t4\t3\n",
      "25%-tile:\t1\t507\t507\t1\t5\t25\n",
      "Median: \t1\t530\t530\t3\t5\t50\n",
      "75%-tile:\t1\t961\t961\t6\t6\t74\n",
      "97.5%-tile:\t1\t973\t973\t15\t8\t96\n",
      "Maximum:\t1\t978\t978\t20\t9\t98\n",
      "Mean:\t1\t678.235\t678.235\t4.54082\t5.44898\n",
      "# of Seqs:\t98\n",
      "\n",
      "Output File Names:\n",
      "amazon.summary\n",
      "\n",
      "It took 0 secs to summarize 98 sequences.\n",
      "\n"
     ]
    }
   ],
   "source": [
    "%%mothur\n",
    "summary.seqs(fasta=amazon.fasta)"
   ]
  },
  {
   "cell_type": "markdown",
   "metadata": {
    "collapsed": false
   },
   "source": [
    "## Using current variables"
   ]
  },
  {
   "cell_type": "markdown",
   "metadata": {},
   "source": [
    "Mothur current variables are saved to the notebook environment, enabling persistance of current variables in mothur between cell executions."
   ]
  },
  {
   "cell_type": "code",
   "execution_count": 4,
   "metadata": {
    "collapsed": false
   },
   "outputs": [
    {
     "name": "stdout",
     "output_type": "stream",
     "text": [
      "mothur > summary.seqs(fasta=current)\n",
      "Using amazon.fasta as input file for the fasta parameter.\n",
      "\n",
      "Using 1 processors.\n",
      "\n",
      "Start\tEnd\tNBases\tAmbigs\tPolymer\tNumSeqs\n",
      "Minimum:\t1\t422\t422\t0\t4\t1\n",
      "2.5%-tile:\t1\t436\t436\t0\t4\t3\n",
      "25%-tile:\t1\t507\t507\t1\t5\t25\n",
      "Median: \t1\t530\t530\t3\t5\t50\n",
      "75%-tile:\t1\t961\t961\t6\t6\t74\n",
      "97.5%-tile:\t1\t973\t973\t15\t8\t96\n",
      "Maximum:\t1\t978\t978\t20\t9\t98\n",
      "Mean:\t1\t678.235\t678.235\t4.54082\t5.44898\n",
      "# of Seqs:\t98\n",
      "\n",
      "Output File Names:\n",
      "amazon.summary\n",
      "\n",
      "It took 0 secs to summarize 98 sequences.\n",
      "\n"
     ]
    }
   ],
   "source": [
    "%%mothur\n",
    "summary.seqs(fasta=current)"
   ]
  },
  {
   "cell_type": "code",
   "execution_count": 5,
   "metadata": {
    "collapsed": false
   },
   "outputs": [
    {
     "name": "stdout",
     "output_type": "stream",
     "text": [
      "mothur > summary.seqs()\n",
      "Using amazon.fasta as input file for the fasta parameter.\n",
      "\n",
      "Using 1 processors.\n",
      "\n",
      "Start\tEnd\tNBases\tAmbigs\tPolymer\tNumSeqs\n",
      "Minimum:\t1\t422\t422\t0\t4\t1\n",
      "2.5%-tile:\t1\t436\t436\t0\t4\t3\n",
      "25%-tile:\t1\t507\t507\t1\t5\t25\n",
      "Median: \t1\t530\t530\t3\t5\t50\n",
      "75%-tile:\t1\t961\t961\t6\t6\t74\n",
      "97.5%-tile:\t1\t973\t973\t15\t8\t96\n",
      "Maximum:\t1\t978\t978\t20\t9\t98\n",
      "Mean:\t1\t678.235\t678.235\t4.54082\t5.44898\n",
      "# of Seqs:\t98\n",
      "\n",
      "Output File Names:\n",
      "amazon.summary\n",
      "\n",
      "It took 0 secs to summarize 98 sequences.\n",
      "\n"
     ]
    }
   ],
   "source": [
    "%%mothur\n",
    "summary.seqs()"
   ]
  },
  {
   "cell_type": "markdown",
   "metadata": {
    "collapsed": true
   },
   "source": [
    "## Using current variables"
   ]
  },
  {
   "cell_type": "markdown",
   "metadata": {},
   "source": [
    "Mothur variables can be made persistent across multiple notebook sessions by enabling saving of the variables to file."
   ]
  },
  {
   "cell_type": "code",
   "execution_count": 6,
   "metadata": {
    "collapsed": true
   },
   "outputs": [],
   "source": [
    "%config MothurMagic.save_to_file = True"
   ]
  },
  {
   "cell_type": "code",
   "execution_count": 7,
   "metadata": {
    "collapsed": false
   },
   "outputs": [
    {
     "name": "stdout",
     "output_type": "stream",
     "text": [
      "mothur > summary.seqs()\n",
      "Using amazon.fasta as input file for the fasta parameter.\n",
      "\n",
      "Using 1 processors.\n",
      "\n",
      "Start\tEnd\tNBases\tAmbigs\tPolymer\tNumSeqs\n",
      "Minimum:\t1\t422\t422\t0\t4\t1\n",
      "2.5%-tile:\t1\t436\t436\t0\t4\t3\n",
      "25%-tile:\t1\t507\t507\t1\t5\t25\n",
      "Median: \t1\t530\t530\t3\t5\t50\n",
      "75%-tile:\t1\t961\t961\t6\t6\t74\n",
      "97.5%-tile:\t1\t973\t973\t15\t8\t96\n",
      "Maximum:\t1\t978\t978\t20\t9\t98\n",
      "Mean:\t1\t678.235\t678.235\t4.54082\t5.44898\n",
      "# of Seqs:\t98\n",
      "\n",
      "Output File Names:\n",
      "amazon.summary\n",
      "\n",
      "It took 0 secs to summarize 98 sequences.\n",
      "\n",
      "Mothur variables saved to file.\n"
     ]
    }
   ],
   "source": [
    "%%mothur\n",
    "summary.seqs()"
   ]
  },
  {
   "cell_type": "code",
   "execution_count": null,
   "metadata": {
    "collapsed": true
   },
   "outputs": [],
   "source": []
  }
 ],
 "metadata": {
  "kernelspec": {
   "display_name": "Python 2",
   "language": "python",
   "name": "python2"
  },
  "language_info": {
   "codemirror_mode": {
    "name": "ipython",
    "version": 2
   },
   "file_extension": ".py",
   "mimetype": "text/x-python",
   "name": "python",
   "nbconvert_exporter": "python",
   "pygments_lexer": "ipython2",
   "version": "2.7.11"
  }
 },
 "nbformat": 4,
 "nbformat_minor": 0
}
