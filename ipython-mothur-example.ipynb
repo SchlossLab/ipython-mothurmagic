{
 "metadata": {
  "name": ""
 },
 "nbformat": 3,
 "nbformat_minor": 0,
 "worksheets": [
  {
   "cells": [
    {
     "cell_type": "heading",
     "level": 1,
     "metadata": {},
     "source": [
      "Example of running mothur within an IPython notebook."
     ]
    },
    {
     "cell_type": "markdown",
     "metadata": {},
     "source": [
      "All code available at https://github.com/kdiverson/ipython-mothurmagic/blob/master/mothurmagic.py"
     ]
    },
    {
     "cell_type": "heading",
     "level": 3,
     "metadata": {},
     "source": [
      "Prerequisites"
     ]
    },
    {
     "cell_type": "markdown",
     "metadata": {},
     "source": [
      "mothur must be installed on your system and either in your path or in the directory where IPython is running. See http://www.mothur.org/wiki/Download_mothur to download a copy of mothur."
     ]
    },
    {
     "cell_type": "heading",
     "level": 3,
     "metadata": {},
     "source": [
      "Installation"
     ]
    },
    {
     "cell_type": "code",
     "collapsed": false,
     "input": [
      "%install_ext https://raw.github.com/kdiverson/ipython-mothurmagic/master/mothurmagic.py"
     ],
     "language": "python",
     "metadata": {},
     "outputs": [
      {
       "output_type": "stream",
       "stream": "stdout",
       "text": [
        "Installed mothurmagic.py. To use it, type:\n",
        "  %load_ext mothurmagic\n"
       ]
      }
     ],
     "prompt_number": 9
    },
    {
     "cell_type": "heading",
     "level": 3,
     "metadata": {},
     "source": [
      "Load the extention"
     ]
    },
    {
     "cell_type": "code",
     "collapsed": false,
     "input": [
      "%load_ext mothurmagic"
     ],
     "language": "python",
     "metadata": {},
     "outputs": [],
     "prompt_number": 11
    },
    {
     "cell_type": "heading",
     "level": 2,
     "metadata": {},
     "source": [
      "Running mothur commands"
     ]
    },
    {
     "cell_type": "markdown",
     "metadata": {},
     "source": [
      "Example using data from http://www.mothur.org/w/images/3/37/AmazonData.zip\n",
      "A unique log file will be generated each time a %%mothur cell is executed."
     ]
    },
    {
     "cell_type": "code",
     "collapsed": false,
     "input": [
      "%%mothur\n",
      "cluster(phylip=98_sq_phylip_amazon.dist, cutoff=0.1)\n",
      "collect.single()\n",
      "rarefaction.single()"
     ],
     "language": "python",
     "metadata": {},
     "outputs": [
      {
       "metadata": {},
       "output_type": "pyout",
       "prompt_number": 12,
       "text": [
        "'Success, check ./mothur.ipython.82521.logfile for details.'"
       ]
      }
     ],
     "prompt_number": 12
    },
    {
     "cell_type": "code",
     "collapsed": false,
     "input": [],
     "language": "python",
     "metadata": {},
     "outputs": []
    }
   ],
   "metadata": {}
  }
 ]
}