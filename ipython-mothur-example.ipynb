{
 "metadata": {
  "name": ""
 },
 "nbformat": 3,
 "nbformat_minor": 0,
 "worksheets": [
  {
   "cells": [
    {
     "cell_type": "heading",
     "level": 1,
     "metadata": {},
     "source": [
      "Example of running mothur within an IPython notebook."
     ]
    },
    {
     "cell_type": "markdown",
     "metadata": {},
     "source": [
      "All code available at https://github.com/SchlossLab/ipython-mothurmagic"
     ]
    },
    {
     "cell_type": "heading",
     "level": 3,
     "metadata": {},
     "source": [
      "Prerequisites"
     ]
    },
    {
     "cell_type": "markdown",
     "metadata": {},
     "source": [
      "mothur must be installed on your system and either in your path or in the directory where IPython is running. See http://www.mothur.org/wiki/Download_mothur to download a copy of mothur."
     ]
    },
    {
     "cell_type": "heading",
     "level": 3,
     "metadata": {},
     "source": [
      "Installation"
     ]
    },
    {
     "cell_type": "code",
     "collapsed": false,
     "input": [
      "%install_ext https://raw.githubusercontent.com/SchlossLab/ipython-mothurmagic/master/mothurmagic.py"
     ],
     "language": "python",
     "metadata": {},
     "outputs": [
      {
       "output_type": "stream",
       "stream": "stdout",
       "text": [
        "Installed mothurmagic.py. To use it, type:\n",
        "  %load_ext mothurmagic\n"
       ]
      }
     ],
     "prompt_number": 1
    },
    {
     "cell_type": "heading",
     "level": 3,
     "metadata": {},
     "source": [
      "Load the extention"
     ]
    },
    {
     "cell_type": "code",
     "collapsed": false,
     "input": [
      "%load_ext mothurmagic"
     ],
     "language": "python",
     "metadata": {},
     "outputs": [],
     "prompt_number": 2
    },
    {
     "cell_type": "heading",
     "level": 2,
     "metadata": {},
     "source": [
      "Running mothur commands"
     ]
    },
    {
     "cell_type": "markdown",
     "metadata": {},
     "source": [
      "Example using data from http://www.mothur.org/w/images/3/37/AmazonData.zip\n",
      "A unique log file will be generated each time a %%mothur cell is executed."
     ]
    },
    {
     "cell_type": "code",
     "collapsed": false,
     "input": [
      "%%mothur\n",
      "cluster(phylip=AmazonData/98_sq_phylip_amazon.dist, cutoff=0.1)\n",
      "collect.single()\n",
      "rarefaction.single()"
     ],
     "language": "python",
     "metadata": {},
     "outputs": [
      {
       "output_type": "stream",
       "stream": "stdout",
       "text": [
        "mothur > cluster(phylip=AmazonData/98_sq_phylip_amazon.dist, cutoff=0.1)\n",
        "********************#****#****#****#****#****#****#****#****#****#****#\n",
        "Reading matrix:     |||||||||||||||||||||||||||||||||||||||||||||||||||\n",
        "***********************************************************************\n",
        "changed cutoff to 0.069234\n",
        "\n",
        "Output File Names:\n",
        "AmazonData/98_sq_phylip_amazon.an.sabund\n",
        "AmazonData/98_sq_phylip_amazon.an.rabund\n",
        "AmazonData/98_sq_phylip_amazon.an.list\n",
        "\n",
        "It took 0 seconds to cluster\n",
        "\n",
        "mothur > collect.single()\n",
        "Using AmazonData/98_sq_phylip_amazon.an.list as input file for the list parameter.\n",
        "unique\n",
        "0.01\n",
        "0.02\n",
        "0.03\n",
        "0.04\n",
        "0.05\n",
        "0.06\n",
        "\n",
        "Output File Names:\n",
        "AmazonData/98_sq_phylip_amazon.an.sobs\n",
        "AmazonData/98_sq_phylip_amazon.an.chao\n",
        "AmazonData/98_sq_phylip_amazon.an.ace\n",
        "AmazonData/98_sq_phylip_amazon.an.jack\n",
        "AmazonData/98_sq_phylip_amazon.an.shannon\n",
        "AmazonData/98_sq_phylip_amazon.an.npshannon\n",
        "AmazonData/98_sq_phylip_amazon.an.simpson\n",
        "\n",
        "\n",
        "mothur > rarefaction.single()\n",
        "Using AmazonData/98_sq_phylip_amazon.an.list as input file for the list parameter.\n",
        "\n",
        "Using 1 processors.\n",
        "unique\n",
        "0.01\n",
        "0.02\n",
        "0.03\n",
        "0.04\n",
        "0.05\n",
        "0.06\n",
        "\n",
        "Output File Names:\n",
        "AmazonData/98_sq_phylip_amazon.an.rarefaction\n",
        "\n",
        "\n",
        "mothur > quit()\n"
       ]
      }
     ],
     "prompt_number": 3
    },
    {
     "cell_type": "code",
     "collapsed": false,
     "input": [],
     "language": "python",
     "metadata": {},
     "outputs": [],
     "prompt_number": 3
    }
   ],
   "metadata": {}
  }
 ]
}
