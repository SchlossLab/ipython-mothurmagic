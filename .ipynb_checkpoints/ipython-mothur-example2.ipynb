{
 "cells": [
  {
   "cell_type": "markdown",
   "metadata": {},
   "source": [
    "# Example of running mothur within an IPython notebook."
   ]
  },
  {
   "cell_type": "markdown",
   "metadata": {},
   "source": [
    "All code available at https://github.com/SchlossLab/ipython-mothurmagic"
   ]
  },
  {
   "cell_type": "markdown",
   "metadata": {},
   "source": [
    "### Prerequisites"
   ]
  },
  {
   "cell_type": "markdown",
   "metadata": {},
   "source": [
    "mothur must be installed on your system and either in your path or in the directory where IPython is running. See http://www.mothur.org/wiki/Download_mothur to download a copy of mothur."
   ]
  },
  {
   "cell_type": "markdown",
   "metadata": {},
   "source": [
    "### Installation"
   ]
  },
  {
   "cell_type": "code",
   "execution_count": 1,
   "metadata": {},
   "outputs": [],
   "source": [
    "%install_ext mothurmagic.py"
   ]
  },
  {
   "cell_type": "markdown",
   "metadata": {},
   "source": [
    "### Load the extention"
   ]
  },
  {
   "cell_type": "code",
   "execution_count": 2,
   "metadata": {},
   "outputs": [],
   "source": [
    "%load_ext mothurmagic"
   ]
  },
  {
   "cell_type": "markdown",
   "metadata": {},
   "source": [
    "## Running mothur commands"
   ]
  },
  {
   "cell_type": "markdown",
   "metadata": {},
   "source": [
    "Example using data from http://www.mothur.org/w/images/3/37/AmazonData.zip\n",
    "A unique log file will be generated each time a %%mothur cell is executed."
   ]
  },
  {
   "cell_type": "code",
   "execution_count": 3,
   "metadata": {},
   "outputs": [
    {
     "name": "stdout",
     "output_type": "stream",
     "text": [
      "mothur > cluster(phylip=AmazonData/98_sq_phylip_amazon.dist, cutoff=0.1)\n********************#****#****#****#****#****#****#****#****#****#****#\nReading matrix:     |||||||||||||||||||||||||||||||||||||||||||||||||||\n***********************************************************************\nchanged cutoff to 0.069234\n\nOutput File Names:\nAmazonData/98_sq_phylip_amazon.an.sabund\nAmazonData/98_sq_phylip_amazon.an.rabund\nAmazonData/98_sq_phylip_amazon.an.list\n\nIt took 0 seconds to cluster\n\nmothur > collect.single()\nUsing AmazonData/98_sq_phylip_amazon.an.list as input file for the list parameter.\nunique\n0.01\n0.02\n0.03\n0.04\n0.05\n0.06\n\nOutput File Names:\nAmazonData/98_sq_phylip_amazon.an.sobs\nAmazonData/98_sq_phylip_amazon.an.chao\nAmazonData/98_sq_phylip_amazon.an.ace\nAmazonData/98_sq_phylip_amazon.an.jack\nAmazonData/98_sq_phylip_amazon.an.shannon\nAmazonData/98_sq_phylip_amazon.an.npshannon\nAmazonData/98_sq_phylip_amazon.an.simpson\n\n\nmothur > rarefaction.single()\nUsing AmazonData/98_sq_phylip_amazon.an.list as input file for the list parameter.\n\nUsing 1 processors.\nunique\n0.01\n0.02\n0.03\n0.04\n0.05\n0.06\n\nOutput File Names:\nAmazonData/98_sq_phylip_amazon.an.rarefaction\n\n\nmothur > quit()\n"
     ]
    }
   ],
   "source": [
    "%%mothur\n",
    "cluster(phylip=AmazonData/98_sq_phylip_amazon.dist, cutoff=0.1)\n",
    "collect.single()\n",
    "rarefaction.single()"
   ]
  },
  {
   "cell_type": "code",
   "execution_count": null,
   "metadata": {},
   "outputs": [],
   "source": [
    ""
   ]
  }
 ],
 "metadata": {
  "kernelspec": {
   "display_name": "Python 2",
   "language": "python",
   "name": "python2"
  },
  "language_info": {
   "codemirror_mode": {
    "name": "ipython",
    "version": 2.0
   },
   "file_extension": ".py",
   "mimetype": "text/x-python",
   "name": "python",
   "nbconvert_exporter": "python",
   "pygments_lexer": "ipython2",
   "version": "2.7.11"
  }
 },
 "nbformat": 4,
 "nbformat_minor": 0
}